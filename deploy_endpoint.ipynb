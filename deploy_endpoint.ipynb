{
 "cells": [
  {
   "cell_type": "code",
   "execution_count": null,
   "id": "e221438c-905c-45a9-a368-1efeb0c65374",
   "metadata": {},
   "outputs": [],
   "source": [
    "%pip install -U -q sagemaker"
   ]
  },
  {
   "cell_type": "code",
   "execution_count": 13,
   "id": "cb752b6d-49ed-4848-bf2c-1061932aed68",
   "metadata": {},
   "outputs": [
    {
     "name": "stdout",
     "output_type": "stream",
     "text": [
      "2.221.1\n",
      "sagemaker role arn: arn:aws:iam::236241703319:role/service-role/AmazonSageMaker-ExecutionRole-20240525T225318\n",
      "sagemaker bucket: sagemaker-ap-northeast-2-236241703319\n",
      "sagemaker session region: ap-northeast-2\n"
     ]
    }
   ],
   "source": [
    "import os\n",
    "import boto3\n",
    "import shutil\n",
    "import sagemaker\n",
    "\n",
    "print(sagemaker.__version__)\n",
    "if not sagemaker.__version__ >= \"2.146.0\": print(\"You need to upgrade or restart the kernel if you already upgraded\")\n",
    "\n",
    "sess = sagemaker.Session()\n",
    "role = sagemaker.get_execution_role()\n",
    "bucket = sess.default_bucket()\n",
    "region = sess.boto_region_name\n",
    "\n",
    "print(f\"sagemaker role arn: {role}\")\n",
    "print(f\"sagemaker bucket: {bucket}\")\n",
    "print(f\"sagemaker session region: {region}\")"
   ]
  },
  {
   "cell_type": "code",
   "execution_count": 24,
   "id": "26cad6b2-0d05-4717-9109-0125fba1a45e",
   "metadata": {},
   "outputs": [
    {
     "data": {
      "text/plain": [
       "'151534178276.dkr.ecr.ap-northeast-2.amazonaws.com/sagemaker-neo-pytorch:1.9-inf-py3'"
      ]
     },
     "execution_count": 24,
     "metadata": {},
     "output_type": "execute_result"
    }
   ],
   "source": [
    "from sagemaker import image_uris\n",
    "image_uri = image_uris.retrieve(framework='inferentia-pytorch',region='ap-northeast-2',version='1.9',py_version='py3')\n",
    "\n",
    "image_uri"
   ]
  },
  {
   "cell_type": "code",
   "execution_count": 25,
   "id": "5707f8d9-e632-46c2-a0e3-e04f55de4e6c",
   "metadata": {},
   "outputs": [],
   "source": [
    "import logging\n",
    "from sagemaker.utils import name_from_base\n",
    "from sagemaker.pytorch.model import PyTorchModel\n",
    "from sagemaker.huggingface import HuggingFaceModel\n",
    "from sagemaker.predictor import Predictor\n",
    "from datetime import datetime\n",
    "\n",
    "hardware = \"inf1\"\n",
    "date_string = datetime.now().strftime(\"%Y%m-%d%H-%M%S\")\n",
    "model_data = \"s3://sagemaker-ap-northeast-2-236241703319/neuron-experiments/bge-m3/compiled-model/compiled_model_v2.tar.gz\"\n",
    "\n",
    "pytorch_model = PyTorchModel(    \n",
    "    image_uri=image_uri,\n",
    "    model_data=model_data,\n",
    "    role=role,\n",
    "    name=name_from_base('bge-m3'),\n",
    "    sagemaker_session=sess,\n",
    "    container_log_level=logging.WARN,\n",
    "    framework_version=\"1.13.1\",\n",
    "    # model_server_workers=4, # 1 worker per core\n",
    "    env = {\n",
    "        'SAGEMAKER_MODEL_SERVER_TIMEOUT' : '7200' \n",
    "    }\n",
    ")\n",
    "pytorch_model._is_compiled_model = True"
   ]
  },
  {
   "cell_type": "code",
   "execution_count": 26,
   "id": "9aedefe9-3ade-4528-bdd9-495475e9daa1",
   "metadata": {},
   "outputs": [
    {
     "name": "stdout",
     "output_type": "stream",
     "text": [
      "-------------!Endpoint Name: bge-m3-inf1-202405-2805-4315\n",
      "CPU times: user 87.1 ms, sys: 4.03 ms, total: 91.1 ms\n",
      "Wall time: 7min 2s\n"
     ]
    }
   ],
   "source": [
    "%%time\n",
    "from sagemaker.serializers import JSONSerializer\n",
    "from sagemaker.deserializers import JSONDeserializer\n",
    "\n",
    "predictor = pytorch_model.deploy(\n",
    "    initial_instance_count=1,\n",
    "    instance_type=\"ml.inf1.6xlarge\",\n",
    "    endpoint_name=f\"bge-m3-{hardware}-{date_string}-v2\",\n",
    "    serializer=JSONSerializer(),\n",
    "    deserializer=JSONDeserializer(),\n",
    ")\n",
    "\n",
    "print(f\"Endpoint Name: bge-m3-{hardware}-{date_string}\")"
   ]
  },
  {
   "cell_type": "code",
   "execution_count": 29,
   "id": "d889d2e1-f078-4957-988f-435be77dfa3b",
   "metadata": {},
   "outputs": [
    {
     "data": {
      "text/plain": [
       "'Similaritiy of two sentences are 0.855'"
      ]
     },
     "execution_count": 29,
     "metadata": {},
     "output_type": "execute_result"
    }
   ],
   "source": [
    "seq_0 = \"Hi, global\"\n",
    "seq_1 = \"Hello, world\"\n",
    "\n",
    "# Send a payload to the endpoint and recieve the inference\n",
    "payload = seq_0, seq_1\n",
    "outputs = predictor.predict(payload)\n",
    "outputs"
   ]
  },
  {
   "cell_type": "code",
   "execution_count": null,
   "id": "d67c14ac-3755-4da8-bf96-7fc747fe8bc1",
   "metadata": {},
   "outputs": [],
   "source": []
  }
 ],
 "metadata": {
  "kernelspec": {
   "display_name": "Python 3 (ipykernel)",
   "language": "python",
   "name": "python3"
  },
  "language_info": {
   "codemirror_mode": {
    "name": "ipython",
    "version": 3
   },
   "file_extension": ".py",
   "mimetype": "text/x-python",
   "name": "python",
   "nbconvert_exporter": "python",
   "pygments_lexer": "ipython3",
   "version": "3.10.14"
  }
 },
 "nbformat": 4,
 "nbformat_minor": 5
}
